{
 "cells": [
  {
   "cell_type": "code",
   "execution_count": null,
   "metadata": {},
   "outputs": [],
   "source": "from fastai.vision.all import *"
  },
  {
   "cell_type": "code",
   "execution_count": null,
   "metadata": {},
   "outputs": [],
   "source": "datapath = Path(\"/kaggle/input/rsna-str-pulmonary-embolism-detection/\")\ntrain_df = pd.read_csv(datapath/'train.csv')\ntest_df = pd.read_csv(datapath/'test.csv')\nimagepath = Path(\"/kaggle/input/rsna-str-pe-detection-jpeg-256/\")"
  },
  {
   "cell_type": "code",
   "execution_count": null,
   "metadata": {},
   "outputs": [],
   "source": "train_df.head(3)"
  },
  {
   "cell_type": "code",
   "execution_count": null,
   "metadata": {},
   "outputs": [],
   "source": "train_qi = train_df.groupby(['StudyInstanceUID'])['pe_present_on_image'].agg('mean')"
  },
  {
   "cell_type": "code",
   "execution_count": null,
   "metadata": {},
   "outputs": [],
   "source": "train_df.pe_present_on_image.mean()"
  },
  {
   "cell_type": "code",
   "execution_count": null,
   "metadata": {},
   "outputs": [],
   "source": "labels_dict = dict(zip(train_df['SOPInstanceUID'], train_df['pe_present_on_image']))"
  },
  {
   "cell_type": "code",
   "execution_count": null,
   "metadata": {},
   "outputs": [],
   "source": "len(labels_dict)"
  },
  {
   "cell_type": "code",
   "execution_count": null,
   "metadata": {},
   "outputs": [],
   "source": "unique_pids = train_df.StudyInstanceUID.unique()"
  },
  {
   "cell_type": "code",
   "execution_count": null,
   "metadata": {},
   "outputs": [],
   "source": "n = len(unique_pids)\nnvalid = int(n*0.1); nvalid, n"
  },
  {
   "cell_type": "code",
   "execution_count": null,
   "metadata": {},
   "outputs": [],
   "source": "valid_pids = np.random.permutation(unique_pids)[:nvalid]\nlen(valid_pids)"
  },
  {
   "cell_type": "code",
   "execution_count": null,
   "metadata": {},
   "outputs": [],
   "source": "files = get_image_files(imagepath)"
  },
  {
   "cell_type": "code",
   "execution_count": null,
   "metadata": {},
   "outputs": [],
   "source": "len(files)"
  },
  {
   "cell_type": "code",
   "execution_count": null,
   "metadata": {},
   "outputs": [],
   "source": "# sample_files = np.random.choice(files, 100000)\n# len(sample_files)"
  },
  {
   "cell_type": "code",
   "execution_count": null,
   "metadata": {},
   "outputs": [],
   "source": "def get_dls(files, size=256, bs=128):\n    trn_idxs, val_idxs = [],[]\n    for i,o in enumerate(files):\n        if o.parent.parent.name in valid_pids: val_idxs.append(i)\n        else: trn_idxs.append(i)\n        \n    tfms = [[PILImage.create, ToTensor, RandomResizedCrop(size, min_scale=0.9)], \n            [lambda o: labels_dict[o.stem.split(\"_\")[1]], Categorize()]]\n\n    dsets = Datasets(files, tfms=tfms, splits=(trn_idxs, val_idxs))\n\n    batch_tfms = [IntToFloatTensor]\n    dls = dsets.dataloaders(bs=bs, after_batch=batch_tfms)\n    return dls"
  },
  {
   "cell_type": "code",
   "execution_count": null,
   "metadata": {},
   "outputs": [],
   "source": "dls = get_dls(files, bs=256)"
  },
  {
   "cell_type": "code",
   "execution_count": null,
   "metadata": {},
   "outputs": [],
   "source": "dls.show_batch()"
  },
  {
   "cell_type": "code",
   "execution_count": null,
   "metadata": {},
   "outputs": [],
   "source": "sqrmom=0.99\nmom=0.95\nbeta=0.\neps=1e-4\nopt_func = partial(ranger, mom=mom, sqr_mom=sqrmom, eps=eps, beta=beta)"
  },
  {
   "cell_type": "code",
   "execution_count": null,
   "metadata": {},
   "outputs": [],
   "source": "learn = cnn_learner(dls, xresnet34, opt_func=opt_func, pretrained=True)\nlearn.to_fp16();"
  },
  {
   "cell_type": "code",
   "execution_count": null,
   "metadata": {},
   "outputs": [],
   "source": "learn.lr_find()"
  },
  {
   "cell_type": "code",
   "execution_count": null,
   "metadata": {},
   "outputs": [],
   "source": "learn.path = Path(\".\")"
  },
  {
   "cell_type": "code",
   "execution_count": null,
   "metadata": {},
   "outputs": [],
   "source": "learn.fine_tune(2, 3e-1)"
  },
  {
   "cell_type": "code",
   "execution_count": null,
   "metadata": {},
   "outputs": [],
   "source": "learn.save('basemodel-ft')"
  },
  {
   "cell_type": "code",
   "execution_count": null,
   "metadata": {},
   "outputs": [],
   "source": ""
  },
  {
   "cell_type": "markdown",
   "metadata": {},
   "source": "### Simulate Score"
  },
  {
   "cell_type": "code",
   "execution_count": null,
   "metadata": {},
   "outputs": [],
   "source": "# res = learn.get_preds(with_loss=True)\n\n# preds, targs, losses = res\n\n# valid_qi = tensor([train_qi[o.parent.parent.name] for o in dls.valid_ds.items])\n\n# w = 0.07361963\n# (sum(w*valid_qi*losses) + (len(valid_pids)*0.69))/(sum(w*valid_qi)+ len(valid_qi))\n\n# np.sum([0.0736196319,\n# 0.09202453988,\n# 0.1042944785,\n# 0.1042944785,\n# 0.1877300613,\n# 0.06257668712,\n# 0.06257668712,\n# 0.2346625767,\n# 0.0782208589])\n\n"
  },
  {
   "cell_type": "code",
   "execution_count": null,
   "metadata": {},
   "outputs": [],
   "source": ""
  }
 ],
 "metadata": {
  "kernelspec": {
   "display_name": "Python 3",
   "language": "python",
   "name": "python3"
  }
 },
 "nbformat": 4,
 "nbformat_minor": 4
}
