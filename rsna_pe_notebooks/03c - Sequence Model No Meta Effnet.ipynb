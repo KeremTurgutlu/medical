{
 "cells": [
  {
   "cell_type": "code",
   "execution_count": 1,
   "metadata": {
    "_cell_guid": "b1076dfc-b9ad-4769-8c92-a6c4dae69d19",
    "_uuid": "8f2839f25d086af736a60e9eeb907d3b93b6e0e5",
    "execution": {
     "iopub.execute_input": "2020-10-11T05:05:45.793338Z",
     "iopub.status.busy": "2020-10-11T05:05:45.792450Z",
     "iopub.status.idle": "2020-10-11T05:05:49.076759Z",
     "shell.execute_reply": "2020-10-11T05:05:49.075652Z"
    },
    "papermill": {
     "duration": 3.336839,
     "end_time": "2020-10-11T05:05:49.076897",
     "exception": false,
     "start_time": "2020-10-11T05:05:45.740058",
     "status": "completed"
    },
    "tags": []
   },
   "outputs": [],
   "source": [
    "from fastai.vision.all import *"
   ]
  },
  {
   "cell_type": "code",
   "execution_count": 2,
   "metadata": {
    "execution": {
     "iopub.execute_input": "2020-10-11T05:05:49.185018Z",
     "iopub.status.busy": "2020-10-11T05:05:49.184171Z",
     "iopub.status.idle": "2020-10-11T05:05:49.189192Z",
     "shell.execute_reply": "2020-10-11T05:05:49.188571Z"
    },
    "papermill": {
     "duration": 0.060899,
     "end_time": "2020-10-11T05:05:49.189320",
     "exception": false,
     "start_time": "2020-10-11T05:05:49.128421",
     "status": "completed"
    },
    "tags": []
   },
   "outputs": [],
   "source": [
    "pd.options.display.max_columns = 100"
   ]
  },
  {
   "cell_type": "code",
   "execution_count": 3,
   "metadata": {
    "execution": {
     "iopub.execute_input": "2020-10-11T05:05:49.300079Z",
     "iopub.status.busy": "2020-10-11T05:05:49.297793Z",
     "iopub.status.idle": "2020-10-11T05:05:49.301115Z",
     "shell.execute_reply": "2020-10-11T05:05:49.301698Z"
    },
    "papermill": {
     "duration": 0.062115,
     "end_time": "2020-10-11T05:05:49.301967",
     "exception": false,
     "start_time": "2020-10-11T05:05:49.239852",
     "status": "completed"
    },
    "tags": []
   },
   "outputs": [],
   "source": [
    "datapath = Path(\"/../rsna_data/\")\n",
    "embspath = Path(datapath/\"effnet_embs\")\n",
    "train_df = pd.read_csv(datapath/'train.csv')"
   ]
  },
  {
   "cell_type": "code",
   "execution_count": 4,
   "metadata": {
    "execution": {
     "iopub.execute_input": "2020-10-11T05:05:49.406694Z",
     "iopub.status.busy": "2020-10-11T05:05:49.405658Z",
     "iopub.status.idle": "2020-10-11T05:05:49.414597Z",
     "shell.execute_reply": "2020-10-11T05:05:49.415154Z"
    },
    "papermill": {
     "duration": 0.062231,
     "end_time": "2020-10-11T05:05:49.415312",
     "exception": false,
     "start_time": "2020-10-11T05:05:49.353081",
     "status": "completed"
    },
    "tags": []
   },
   "outputs": [],
   "source": [
    "embfiles = list(embspath.ls())"
   ]
  },
  {
   "cell_type": "code",
   "execution_count": 5,
   "metadata": {},
   "outputs": [],
   "source": [
    "trainfiles = [o for o in embfiles if 'validation' not in o.stem]\n",
    "validfiles = [o for o in embfiles  if 'validation' in o.stem]"
   ]
  },
  {
   "cell_type": "code",
   "execution_count": 6,
   "metadata": {},
   "outputs": [],
   "source": [
    "valid_dict = pd.read_pickle(validfiles[0])"
   ]
  },
  {
   "cell_type": "code",
   "execution_count": 7,
   "metadata": {},
   "outputs": [],
   "source": [
    "valid_sopids = list(valid_dict.keys())"
   ]
  },
  {
   "cell_type": "code",
   "execution_count": 8,
   "metadata": {},
   "outputs": [
    {
     "data": {
      "text/plain": [
       "7"
      ]
     },
     "execution_count": 8,
     "metadata": {},
     "output_type": "execute_result"
    }
   ],
   "source": [
    "len(trainfiles)"
   ]
  },
  {
   "cell_type": "code",
   "execution_count": 9,
   "metadata": {},
   "outputs": [],
   "source": [
    "sopid2sid = dict(zip(train_df['SOPInstanceUID'], train_df['StudyInstanceUID']))"
   ]
  },
  {
   "cell_type": "code",
   "execution_count": 10,
   "metadata": {},
   "outputs": [
    {
     "data": {
      "text/plain": [
       "1790594"
      ]
     },
     "execution_count": 10,
     "metadata": {},
     "output_type": "execute_result"
    }
   ],
   "source": [
    "len(sopid2sid)"
   ]
  },
  {
   "cell_type": "markdown",
   "metadata": {},
   "source": [
    "### Load Embeddings"
   ]
  },
  {
   "cell_type": "code",
   "execution_count": 11,
   "metadata": {},
   "outputs": [],
   "source": [
    "embeddings = []\n",
    "sopids = []\n",
    "for o in trainfiles[:3] + validfiles: # loading all take a lot of time break train files into 2 parts\n",
    "    embs = pd.read_pickle(o)\n",
    "    sopids += list(embs.keys())\n",
    "    embeddings += [np.vstack(list(embs.values()))]"
   ]
  },
  {
   "cell_type": "code",
   "execution_count": 12,
   "metadata": {},
   "outputs": [],
   "source": [
    "embeddings = np.vstack(embeddings)"
   ]
  },
  {
   "cell_type": "code",
   "execution_count": 13,
   "metadata": {},
   "outputs": [],
   "source": [
    "embeddings = tensor(embeddings)"
   ]
  },
  {
   "cell_type": "code",
   "execution_count": 14,
   "metadata": {},
   "outputs": [],
   "source": [
    "# add zero for padded input idx\n",
    "input_pad_idx = len(embeddings)\n",
    "embeddings = torch.cat([embeddings, torch.zeros_like(embeddings[:1])])"
   ]
  },
  {
   "cell_type": "code",
   "execution_count": 15,
   "metadata": {},
   "outputs": [
    {
     "data": {
      "text/plain": [
       "tensor([[ 0.1902, -0.2013,  0.0330,  ..., -0.0989,  0.2165, -0.0236],\n",
       "        [ 0.1528,  0.0959,  0.3164,  ..., -0.1382,  0.0555,  0.3230],\n",
       "        [ 0.1278, -0.1890,  0.0270,  ..., -0.1021,  0.0407, -0.0135],\n",
       "        ...,\n",
       "        [-0.1743,  0.0427,  0.0098,  ...,  0.1158, -0.0887, -0.0816],\n",
       "        [-0.1743,  0.0427,  0.0098,  ...,  0.1158, -0.0887, -0.0816],\n",
       "        [ 0.0000,  0.0000,  0.0000,  ...,  0.0000,  0.0000,  0.0000]])"
      ]
     },
     "execution_count": 15,
     "metadata": {},
     "output_type": "execute_result"
    }
   ],
   "source": [
    "embeddings"
   ]
  },
  {
   "cell_type": "code",
   "execution_count": 16,
   "metadata": {},
   "outputs": [
    {
     "data": {
      "text/plain": [
       "(837099, torch.Size([837100, 2048]))"
      ]
     },
     "execution_count": 16,
     "metadata": {},
     "output_type": "execute_result"
    }
   ],
   "source": [
    "len(sopids), embeddings.shape"
   ]
  },
  {
   "cell_type": "markdown",
   "metadata": {
    "papermill": {
     "duration": 0.059194,
     "end_time": "2020-10-11T05:06:06.026914",
     "exception": false,
     "start_time": "2020-10-11T05:06:05.967720",
     "status": "completed"
    },
    "tags": []
   },
   "source": [
    "### Metadata Features"
   ]
  },
  {
   "cell_type": "code",
   "execution_count": 17,
   "metadata": {},
   "outputs": [],
   "source": [
    "metadata_path = datapath/'metadata'\n",
    "metadata_files = get_files(metadata_path, extensions=\".csv\")\n",
    "metadf = pd.concat([pd.read_csv(o) for o in metadata_files]).reset_index(drop=True)"
   ]
  },
  {
   "cell_type": "code",
   "execution_count": 18,
   "metadata": {},
   "outputs": [
    {
     "data": {
      "text/plain": [
       "(1790594, 68)"
      ]
     },
     "execution_count": 18,
     "metadata": {},
     "output_type": "execute_result"
    }
   ],
   "source": [
    "metadf.shape"
   ]
  },
  {
   "cell_type": "code",
   "execution_count": 19,
   "metadata": {},
   "outputs": [
    {
     "data": {
      "text/plain": [
       "7279"
      ]
     },
     "execution_count": 19,
     "metadata": {},
     "output_type": "execute_result"
    }
   ],
   "source": [
    "len(metadf['StudyInstanceUID'].unique())"
   ]
  },
  {
   "cell_type": "code",
   "execution_count": 20,
   "metadata": {
    "execution": {
     "iopub.execute_input": "2020-10-11T05:06:17.292586Z",
     "iopub.status.busy": "2020-10-11T05:06:17.291549Z",
     "iopub.status.idle": "2020-10-11T05:06:17.294816Z",
     "shell.execute_reply": "2020-10-11T05:06:17.294243Z"
    },
    "papermill": {
     "duration": 0.064378,
     "end_time": "2020-10-11T05:06:17.294933",
     "exception": false,
     "start_time": "2020-10-11T05:06:17.230555",
     "status": "completed"
    },
    "tags": []
   },
   "outputs": [],
   "source": [
    "def minmax_scaler(o): return (o - min(o))/(max(o) - min(o))"
   ]
  },
  {
   "cell_type": "code",
   "execution_count": 21,
   "metadata": {
    "execution": {
     "iopub.execute_input": "2020-10-11T05:06:17.445353Z",
     "iopub.status.busy": "2020-10-11T05:06:17.444256Z",
     "iopub.status.idle": "2020-10-11T05:06:22.860066Z",
     "shell.execute_reply": "2020-10-11T05:06:22.860899Z"
    },
    "papermill": {
     "duration": 5.51184,
     "end_time": "2020-10-11T05:06:22.861149",
     "exception": false,
     "start_time": "2020-10-11T05:06:17.349309",
     "status": "completed"
    },
    "tags": []
   },
   "outputs": [],
   "source": [
    "scaled_pos = metadf.groupby('StudyInstanceUID')['ImagePositionPatient2'].apply(minmax_scaler)\n",
    "metadf.loc[:,'scaled_position'] = scaled_pos.values"
   ]
  },
  {
   "cell_type": "code",
   "execution_count": 22,
   "metadata": {},
   "outputs": [],
   "source": [
    "meta_feat_cols = ['scaled_position']"
   ]
  },
  {
   "cell_type": "code",
   "execution_count": 23,
   "metadata": {},
   "outputs": [],
   "source": [
    "assert np.isnan(metadf[meta_feat_cols]).sum().sum() == 0"
   ]
  },
  {
   "cell_type": "code",
   "execution_count": 24,
   "metadata": {},
   "outputs": [],
   "source": [
    "mean_std = metadf[meta_feat_cols].agg(['mean', 'std']).T"
   ]
  },
  {
   "cell_type": "code",
   "execution_count": 25,
   "metadata": {},
   "outputs": [
    {
     "data": {
      "text/plain": [
       "{'scaled_position': [0.5078721739409284, 0.29139548181397823]}"
      ]
     },
     "execution_count": 25,
     "metadata": {},
     "output_type": "execute_result"
    }
   ],
   "source": [
    "mean_std_dict = dict(zip(mean_std.index, mean_std.values.tolist())); mean_std_dict"
   ]
  },
  {
   "cell_type": "code",
   "execution_count": 26,
   "metadata": {},
   "outputs": [],
   "source": [
    "# standard scaler for training\n",
    "for c in mean_std_dict: metadf[c] = (metadf[c] - mean_std_dict[c][0]) / mean_std_dict[c][1]"
   ]
  },
  {
   "cell_type": "code",
   "execution_count": 27,
   "metadata": {
    "execution": {
     "iopub.execute_input": "2020-10-11T05:06:25.160602Z",
     "iopub.status.busy": "2020-10-11T05:06:25.159131Z",
     "iopub.status.idle": "2020-10-11T05:06:26.563722Z",
     "shell.execute_reply": "2020-10-11T05:06:26.564383Z"
    },
    "papermill": {
     "duration": 1.47135,
     "end_time": "2020-10-11T05:06:26.564553",
     "exception": false,
     "start_time": "2020-10-11T05:06:25.093203",
     "status": "completed"
    },
    "tags": []
   },
   "outputs": [],
   "source": [
    "meta_feats_dict = dict(zip(metadf['SOPInstanceUID'], metadf[meta_feat_cols].to_numpy()))"
   ]
  },
  {
   "cell_type": "code",
   "execution_count": 28,
   "metadata": {},
   "outputs": [
    {
     "data": {
      "text/plain": [
       "1790594"
      ]
     },
     "execution_count": 28,
     "metadata": {},
     "output_type": "execute_result"
    }
   ],
   "source": [
    "len(meta_feats_dict)"
   ]
  },
  {
   "cell_type": "code",
   "execution_count": 29,
   "metadata": {},
   "outputs": [],
   "source": [
    "metadf = metadf.sort_values(['StudyInstanceUID', 'ImagePositionPatient2']).reset_index(drop=True)"
   ]
  },
  {
   "cell_type": "code",
   "execution_count": 30,
   "metadata": {},
   "outputs": [],
   "source": [
    "metadf['SliceIndexNo'] = metadf.groupby('StudyInstanceUID').cumcount()"
   ]
  },
  {
   "cell_type": "code",
   "execution_count": 31,
   "metadata": {},
   "outputs": [
    {
     "data": {
      "text/html": [
       "<div>\n",
       "<style scoped>\n",
       "    .dataframe tbody tr th:only-of-type {\n",
       "        vertical-align: middle;\n",
       "    }\n",
       "\n",
       "    .dataframe tbody tr th {\n",
       "        vertical-align: top;\n",
       "    }\n",
       "\n",
       "    .dataframe thead th {\n",
       "        text-align: right;\n",
       "    }\n",
       "</style>\n",
       "<table border=\"1\" class=\"dataframe\">\n",
       "  <thead>\n",
       "    <tr style=\"text-align: right;\">\n",
       "      <th></th>\n",
       "      <th>StudyInstanceUID</th>\n",
       "      <th>ImagePositionPatient2</th>\n",
       "      <th>SliceIndexNo</th>\n",
       "    </tr>\n",
       "  </thead>\n",
       "  <tbody>\n",
       "    <tr>\n",
       "      <th>0</th>\n",
       "      <td>8.9406e+09</td>\n",
       "      <td>-366.00</td>\n",
       "      <td>0</td>\n",
       "    </tr>\n",
       "    <tr>\n",
       "      <th>1</th>\n",
       "      <td>8.9406e+09</td>\n",
       "      <td>-364.75</td>\n",
       "      <td>1</td>\n",
       "    </tr>\n",
       "    <tr>\n",
       "      <th>2</th>\n",
       "      <td>8.9406e+09</td>\n",
       "      <td>-363.50</td>\n",
       "      <td>2</td>\n",
       "    </tr>\n",
       "    <tr>\n",
       "      <th>3</th>\n",
       "      <td>8.9406e+09</td>\n",
       "      <td>-362.25</td>\n",
       "      <td>3</td>\n",
       "    </tr>\n",
       "    <tr>\n",
       "      <th>4</th>\n",
       "      <td>8.9406e+09</td>\n",
       "      <td>-361.00</td>\n",
       "      <td>4</td>\n",
       "    </tr>\n",
       "    <tr>\n",
       "      <th>5</th>\n",
       "      <td>8.9406e+09</td>\n",
       "      <td>-359.75</td>\n",
       "      <td>5</td>\n",
       "    </tr>\n",
       "    <tr>\n",
       "      <th>6</th>\n",
       "      <td>8.9406e+09</td>\n",
       "      <td>-358.50</td>\n",
       "      <td>6</td>\n",
       "    </tr>\n",
       "    <tr>\n",
       "      <th>7</th>\n",
       "      <td>8.9406e+09</td>\n",
       "      <td>-357.25</td>\n",
       "      <td>7</td>\n",
       "    </tr>\n",
       "    <tr>\n",
       "      <th>8</th>\n",
       "      <td>8.9406e+09</td>\n",
       "      <td>-356.00</td>\n",
       "      <td>8</td>\n",
       "    </tr>\n",
       "    <tr>\n",
       "      <th>9</th>\n",
       "      <td>8.9406e+09</td>\n",
       "      <td>-354.75</td>\n",
       "      <td>9</td>\n",
       "    </tr>\n",
       "  </tbody>\n",
       "</table>\n",
       "</div>"
      ],
      "text/plain": [
       "  StudyInstanceUID  ImagePositionPatient2  SliceIndexNo\n",
       "0       8.9406e+09                -366.00             0\n",
       "1       8.9406e+09                -364.75             1\n",
       "2       8.9406e+09                -363.50             2\n",
       "3       8.9406e+09                -362.25             3\n",
       "4       8.9406e+09                -361.00             4\n",
       "5       8.9406e+09                -359.75             5\n",
       "6       8.9406e+09                -358.50             6\n",
       "7       8.9406e+09                -357.25             7\n",
       "8       8.9406e+09                -356.00             8\n",
       "9       8.9406e+09                -354.75             9"
      ]
     },
     "execution_count": 31,
     "metadata": {},
     "output_type": "execute_result"
    }
   ],
   "source": [
    "metadf[['StudyInstanceUID', 'ImagePositionPatient2', 'SliceIndexNo']].head(10)"
   ]
  },
  {
   "cell_type": "code",
   "execution_count": 32,
   "metadata": {},
   "outputs": [],
   "source": [
    "sopid2slice_no = dict(zip(metadf['SOPInstanceUID'], metadf['SliceIndexNo']))"
   ]
  },
  {
   "cell_type": "markdown",
   "metadata": {},
   "source": [
    "### Compute P(pos img | slice id & pos exam)"
   ]
  },
  {
   "cell_type": "code",
   "execution_count": null,
   "metadata": {},
   "outputs": [],
   "source": []
  },
  {
   "cell_type": "code",
   "execution_count": null,
   "metadata": {},
   "outputs": [],
   "source": []
  },
  {
   "cell_type": "code",
   "execution_count": null,
   "metadata": {},
   "outputs": [],
   "source": []
  },
  {
   "cell_type": "code",
   "execution_count": null,
   "metadata": {},
   "outputs": [],
   "source": []
  },
  {
   "cell_type": "code",
   "execution_count": null,
   "metadata": {},
   "outputs": [],
   "source": []
  },
  {
   "cell_type": "markdown",
   "metadata": {},
   "source": [
    "### Fold Metadata"
   ]
  },
  {
   "cell_type": "code",
   "execution_count": 33,
   "metadata": {},
   "outputs": [],
   "source": [
    "meta_embeddings = []\n",
    "for sopid in sopids:\n",
    "    meta_embeddings.append(meta_feats_dict[sopid])\n",
    "meta_embeddings = np.vstack(meta_embeddings)\n",
    "meta_embeddings= tensor(meta_embeddings)"
   ]
  },
  {
   "cell_type": "code",
   "execution_count": 34,
   "metadata": {},
   "outputs": [
    {
     "data": {
      "text/plain": [
       "(torch.Size([837099, 1]), torch.Tensor)"
      ]
     },
     "execution_count": 34,
     "metadata": {},
     "output_type": "execute_result"
    }
   ],
   "source": [
    "meta_embeddings.shape, type(meta_embeddings)"
   ]
  },
  {
   "cell_type": "code",
   "execution_count": 35,
   "metadata": {
    "execution": {
     "iopub.execute_input": "2020-10-11T05:06:32.294054Z",
     "iopub.status.busy": "2020-10-11T05:06:32.292530Z",
     "iopub.status.idle": "2020-10-11T05:06:32.320193Z",
     "shell.execute_reply": "2020-10-11T05:06:32.319610Z"
    },
    "papermill": {
     "duration": 0.095233,
     "end_time": "2020-10-11T05:06:32.320333",
     "exception": false,
     "start_time": "2020-10-11T05:06:32.225100",
     "status": "completed"
    },
    "tags": []
   },
   "outputs": [],
   "source": [
    "meta_embeddings = torch.cat([meta_embeddings, torch.zeros_like(meta_embeddings[:1])])"
   ]
  },
  {
   "cell_type": "code",
   "execution_count": 36,
   "metadata": {
    "execution": {
     "iopub.execute_input": "2020-10-11T05:06:32.448767Z",
     "iopub.status.busy": "2020-10-11T05:06:32.447837Z",
     "iopub.status.idle": "2020-10-11T05:06:32.451520Z",
     "shell.execute_reply": "2020-10-11T05:06:32.452084Z"
    },
    "papermill": {
     "duration": 0.070835,
     "end_time": "2020-10-11T05:06:32.452228",
     "exception": false,
     "start_time": "2020-10-11T05:06:32.381393",
     "status": "completed"
    },
    "tags": []
   },
   "outputs": [
    {
     "data": {
      "text/plain": [
       "(torch.Size([837100, 2048]), torch.Size([837100, 1]))"
      ]
     },
     "execution_count": 36,
     "metadata": {},
     "output_type": "execute_result"
    }
   ],
   "source": [
    "embeddings.shape, meta_embeddings.shape"
   ]
  },
  {
   "cell_type": "code",
   "execution_count": 37,
   "metadata": {},
   "outputs": [],
   "source": [
    "combined_embeddings = torch.cat([embeddings, meta_embeddings], 1)"
   ]
  },
  {
   "cell_type": "code",
   "execution_count": 38,
   "metadata": {},
   "outputs": [
    {
     "data": {
      "text/plain": [
       "torch.Size([837100, 2049])"
      ]
     },
     "execution_count": 38,
     "metadata": {},
     "output_type": "execute_result"
    }
   ],
   "source": [
    "combined_embeddings.shape"
   ]
  },
  {
   "cell_type": "code",
   "execution_count": 39,
   "metadata": {},
   "outputs": [
    {
     "data": {
      "text/plain": [
       "tensor([[ 0.1902, -0.2013,  0.0330,  ...,  0.2165, -0.0236, -1.7429],\n",
       "        [ 0.1528,  0.0959,  0.3164,  ...,  0.0555,  0.3230, -1.7429],\n",
       "        [ 0.1278, -0.1890,  0.0270,  ...,  0.0407, -0.0135, -1.7315],\n",
       "        ...,\n",
       "        [-0.1743,  0.0427,  0.0098,  ..., -0.0887, -0.0816,  1.6728],\n",
       "        [-0.1743,  0.0427,  0.0098,  ..., -0.0887, -0.0816,  1.6889],\n",
       "        [ 0.0000,  0.0000,  0.0000,  ...,  0.0000,  0.0000,  0.0000]])"
      ]
     },
     "execution_count": 39,
     "metadata": {},
     "output_type": "execute_result"
    }
   ],
   "source": [
    "combined_embeddings"
   ]
  },
  {
   "cell_type": "markdown",
   "metadata": {
    "papermill": {
     "duration": 0.061828,
     "end_time": "2020-10-11T05:06:32.576011",
     "exception": false,
     "start_time": "2020-10-11T05:06:32.514183",
     "status": "completed"
    },
    "tags": []
   },
   "source": [
    "### Data"
   ]
  },
  {
   "cell_type": "code",
   "execution_count": 40,
   "metadata": {},
   "outputs": [],
   "source": [
    "from fastai.text.all import *"
   ]
  },
  {
   "cell_type": "code",
   "execution_count": 41,
   "metadata": {
    "execution": {
     "iopub.execute_input": "2020-10-11T05:14:57.762494Z",
     "iopub.status.busy": "2020-10-11T05:14:57.761573Z",
     "iopub.status.idle": "2020-10-11T05:14:57.765257Z",
     "shell.execute_reply": "2020-10-11T05:14:57.765857Z"
    },
    "papermill": {
     "duration": 0.075197,
     "end_time": "2020-10-11T05:14:57.766007",
     "exception": false,
     "start_time": "2020-10-11T05:14:57.690810",
     "status": "completed"
    },
    "tags": []
   },
   "outputs": [],
   "source": [
    "image_targets = ['pe_present_on_image']\n",
    "exam_targets = [\n",
    "    'negative_exam_for_pe', # exam level\n",
    "    'rv_lv_ratio_gte_1', # exam level\n",
    "    'rv_lv_ratio_lt_1', # exam level\n",
    "    'leftsided_pe', # exam level\n",
    "    'chronic_pe', # exam level\n",
    "    'rightsided_pe', # exam level\n",
    "    'acute_and_chronic_pe', # exam level\n",
    "    'central_pe', # exam level\n",
    "    'indeterminate' # exam level\n",
    "]"
   ]
  },
  {
   "cell_type": "code",
   "execution_count": 42,
   "metadata": {},
   "outputs": [],
   "source": [
    "targets_df = train_df[['StudyInstanceUID', 'SeriesInstanceUID', 'SOPInstanceUID']+image_targets+exam_targets]"
   ]
  },
  {
   "cell_type": "code",
   "execution_count": 43,
   "metadata": {},
   "outputs": [],
   "source": [
    "targets_dict = dict(zip(targets_df['SOPInstanceUID'].values, targets_df[image_targets+exam_targets].values))"
   ]
  },
  {
   "cell_type": "code",
   "execution_count": 44,
   "metadata": {},
   "outputs": [
    {
     "data": {
      "text/plain": [
       "1790594"
      ]
     },
     "execution_count": 44,
     "metadata": {},
     "output_type": "execute_result"
    }
   ],
   "source": [
    "len(targets_dict)"
   ]
  },
  {
   "cell_type": "code",
   "execution_count": 45,
   "metadata": {},
   "outputs": [],
   "source": [
    "files_dict = defaultdict(list)\n",
    "for i,sopid in enumerate(sopids):\n",
    "    sid = sopid2sid[sopid]\n",
    "    slice_no = sopid2slice_no[sopid]\n",
    "    files_dict[sid].append({\"slice_no\":slice_no, \"embs_idx\":i, \"img_y\":targets_dict[sopid][0], \"exam_y\":targets_dict[sopid][1:]})"
   ]
  },
  {
   "cell_type": "code",
   "execution_count": 46,
   "metadata": {},
   "outputs": [],
   "source": [
    "all_pids = list(files_dict.keys())"
   ]
  },
  {
   "cell_type": "code",
   "execution_count": 47,
   "metadata": {},
   "outputs": [
    {
     "data": {
      "text/plain": [
       "3397"
      ]
     },
     "execution_count": 47,
     "metadata": {},
     "output_type": "execute_result"
    }
   ],
   "source": [
    "len(all_pids)"
   ]
  },
  {
   "cell_type": "code",
   "execution_count": 48,
   "metadata": {},
   "outputs": [],
   "source": [
    "valid_pids = {sopid2sid[o] for o in valid_sopids}"
   ]
  },
  {
   "cell_type": "code",
   "execution_count": 49,
   "metadata": {},
   "outputs": [
    {
     "data": {
      "text/plain": [
       "485"
      ]
     },
     "execution_count": 49,
     "metadata": {},
     "output_type": "execute_result"
    }
   ],
   "source": [
    "len(valid_pids)"
   ]
  },
  {
   "cell_type": "code",
   "execution_count": 50,
   "metadata": {
    "execution": {
     "iopub.execute_input": "2020-10-11T05:14:58.242901Z",
     "iopub.status.busy": "2020-10-11T05:14:58.241793Z",
     "iopub.status.idle": "2020-10-11T05:14:58.244246Z",
     "shell.execute_reply": "2020-10-11T05:14:58.244925Z"
    },
    "papermill": {
     "duration": 0.087384,
     "end_time": "2020-10-11T05:14:58.245064",
     "exception": false,
     "start_time": "2020-10-11T05:14:58.157680",
     "status": "completed"
    },
    "tags": []
   },
   "outputs": [],
   "source": [
    "def get_x(pid, files_dict):\n",
    "    o = files_dict[pid]    \n",
    "    l = sorted(o, key=lambda x: x['slice_no']) \n",
    "    return tensor([o['embs_idx'] for o in l])\n",
    "\n",
    "def get_img_y(pid, files_dict):\n",
    "    o = files_dict[pid]    \n",
    "    l = sorted(o, key=lambda x: x['slice_no']) \n",
    "    img_y = [o['img_y'] for o in l]\n",
    "    img_y = tensor(img_y).float()\n",
    "    return img_y\n",
    "\n",
    "def get_exam_y(pid, files_dict):\n",
    "    d = files_dict[pid][0]        \n",
    "    exam_y = tensor(d['exam_y']).float()\n",
    "    return exam_y\n",
    "    \n",
    "# before_batch: after collecting samples before collating\n",
    "targ_pad_idx = 666\n",
    "def SequenceBlock():       return  TransformBlock(type_tfms=[partial(get_x, files_dict=files_dict)], \n",
    "                                                  dl_type=SortedDL,\n",
    "                                                  dls_kwargs={'before_batch':\n",
    "                                                               [partial(pad_input, pad_idx=input_pad_idx),\n",
    "                                                                partial(pad_input, pad_idx=targ_pad_idx, pad_fields=1)]})\n",
    "def SequenceTargetBlock(): return TransformBlock(type_tfms=[partial(get_img_y, files_dict=files_dict)])\n",
    "def TargetBlock():         return TransformBlock(type_tfms=[partial(get_exam_y, files_dict=files_dict)])"
   ]
  },
  {
   "cell_type": "code",
   "execution_count": 51,
   "metadata": {},
   "outputs": [
    {
     "data": {
      "text/plain": [
       "tensor([0., 0., 0., 0., 0., 0., 0., 0., 0., 0., 0., 0., 0., 0., 0., 0., 0., 0., 0., 0., 0., 0., 0., 0.,\n",
       "        0., 0., 0., 0., 0., 0., 0., 0., 0., 0., 0., 0., 0., 0., 0., 0., 0., 0., 0., 0., 0., 0., 0., 0.,\n",
       "        0., 0., 0., 0., 0., 0., 0., 0., 0., 0., 0., 0., 0., 0., 0., 0., 0., 0., 0., 0., 0., 0., 0., 0.,\n",
       "        0., 0., 0., 0., 0., 0., 0., 0., 0., 0., 0., 0., 0., 0., 0., 0., 0., 0., 0., 0., 0., 0., 0., 0.,\n",
       "        0., 0., 0., 0., 0., 0., 0., 0., 0., 0., 0., 0., 0., 0., 0., 0., 0., 0., 0., 0., 0., 0., 0., 0.,\n",
       "        0., 0., 0., 0., 0., 0., 0., 0., 0., 0., 0., 0., 0., 0., 0., 0., 0., 0., 0., 0., 0., 0., 0., 0.,\n",
       "        0., 0., 0., 0., 0., 0., 0., 0., 0., 0., 0., 0., 0., 0., 0., 0., 0., 0., 0., 0., 0., 0., 0., 0.,\n",
       "        0., 0., 0., 0., 0., 0., 0., 0., 0., 0., 0., 0., 0., 0., 0., 0., 0., 0., 0., 0., 0., 0., 0., 0.,\n",
       "        0., 0., 0., 0., 0., 0., 0., 0., 0., 0., 0., 0., 0., 0., 0., 0., 0., 0., 0., 0., 0., 0., 0., 0.,\n",
       "        0., 0., 0., 0., 0., 0., 0., 0., 0., 0., 0., 0., 0., 0., 0., 0., 0., 0., 0., 0., 0., 0., 0., 0.,\n",
       "        0., 0., 0., 0., 0., 0., 0., 0., 0., 0., 0., 0., 0., 0., 0., 0., 0., 0., 0., 0., 0., 0., 0., 0.,\n",
       "        0., 0., 0., 0., 0., 0., 0., 0., 0., 0., 0., 0., 0., 0., 0., 0., 0., 0., 0., 0., 0., 0., 0., 0.,\n",
       "        0., 0., 0., 0., 0., 0., 0., 0., 0., 0., 0., 0., 0.])"
      ]
     },
     "execution_count": 51,
     "metadata": {},
     "output_type": "execute_result"
    }
   ],
   "source": [
    "get_img_y(all_pids[0], files_dict)"
   ]
  },
  {
   "cell_type": "code",
   "execution_count": 52,
   "metadata": {},
   "outputs": [
    {
     "data": {
      "text/plain": [
       "tensor([1., 0., 0., 0., 0., 0., 0., 0., 0.])"
      ]
     },
     "execution_count": 52,
     "metadata": {},
     "output_type": "execute_result"
    }
   ],
   "source": [
    "get_exam_y(all_pids[0], files_dict)"
   ]
  },
  {
   "cell_type": "code",
   "execution_count": 53,
   "metadata": {},
   "outputs": [],
   "source": [
    "# normalized_embeddings = F.normalize(combined_embeddings, dim=0)\n",
    "# normalized_embeddings.isnan().sum()\n",
    "# normalized_embeddings"
   ]
  },
  {
   "cell_type": "code",
   "execution_count": 54,
   "metadata": {},
   "outputs": [],
   "source": [
    "# assert combined_embeddings.isnan().sum().item() == 0"
   ]
  },
  {
   "cell_type": "markdown",
   "metadata": {
    "papermill": {
     "duration": 0.067288,
     "end_time": "2020-10-11T05:15:15.313125",
     "exception": false,
     "start_time": "2020-10-11T05:15:15.245837",
     "status": "completed"
    },
    "tags": []
   },
   "source": [
    "### Model"
   ]
  },
  {
   "cell_type": "code",
   "execution_count": 55,
   "metadata": {
    "execution": {
     "iopub.execute_input": "2020-10-11T05:15:15.454478Z",
     "iopub.status.busy": "2020-10-11T05:15:15.453583Z",
     "iopub.status.idle": "2020-10-11T05:15:15.457163Z",
     "shell.execute_reply": "2020-10-11T05:15:15.457702Z"
    },
    "papermill": {
     "duration": 0.076828,
     "end_time": "2020-10-11T05:15:15.457883",
     "exception": false,
     "start_time": "2020-10-11T05:15:15.381055",
     "status": "completed"
    },
    "tags": []
   },
   "outputs": [
    {
     "data": {
      "text/plain": [
       "device(type='cuda', index=0)"
      ]
     },
     "execution_count": 55,
     "metadata": {},
     "output_type": "execute_result"
    }
   ],
   "source": [
    "device = default_device(); device"
   ]
  },
  {
   "cell_type": "code",
   "execution_count": 56,
   "metadata": {},
   "outputs": [],
   "source": [
    "class AWD_LSTM(Module):\n",
    "    \"AWD-LSTM inspired by https://arxiv.org/abs/1708.02182\"\n",
    "    initrange=0.1\n",
    "\n",
    "    def __init__(self, emb_sz,n_hid, n_layers, hidden_p=0.2, input_p=0.6, weight_p=0.5, bidir=False):\n",
    "        store_attr('emb_sz,n_hid,n_layers')\n",
    "        self.bs = 1\n",
    "        self.n_dir = 2 if bidir else 1\n",
    "        \n",
    "        self.rnns = nn.ModuleList([self._one_rnn(emb_sz if l == 0 else n_hid, (n_hid)//self.n_dir, bidir, weight_p, l) for l in range(n_layers)])\n",
    "\n",
    "        self.input_dp = RNNDropout(input_p)\n",
    "        self.hidden_dps = nn.ModuleList([RNNDropout(hidden_p) for l in range(n_layers)])\n",
    "        self.reset()\n",
    "\n",
    "    def forward(self, x, from_embeds=False):\n",
    "        \n",
    "        if from_embeds: inp = x\n",
    "        else: inp = combined_embeddings[x].to(device)\n",
    "        bs,sl = inp.shape[:2]\n",
    "        if bs!=self.bs: self._change_hidden(bs)\n",
    "\n",
    "        output = self.input_dp(inp)\n",
    "        new_hidden = []\n",
    "        for l, (rnn,hid_dp) in enumerate(zip(self.rnns, self.hidden_dps)):\n",
    "            output, new_h = rnn(output, self.hidden[l])\n",
    "            new_hidden.append(new_h)\n",
    "            if l != self.n_layers - 1: output = hid_dp(output)\n",
    "        self.hidden = to_detach(new_hidden, cpu=False, gather=False)\n",
    "        return output\n",
    "\n",
    "    def _change_hidden(self, bs):\n",
    "        self.hidden = [self._change_one_hidden(l, bs) for l in range(self.n_layers)]\n",
    "        self.bs = bs\n",
    "\n",
    "    def _one_rnn(self, n_in, n_out, bidir, weight_p, l):\n",
    "        \"Return one of the inner rnn\"\n",
    "        rnn = nn.LSTM(n_in, n_out, 1, batch_first=True, bidirectional=bidir, bias=False)\n",
    "        return WeightDropout(rnn, weight_p)\n",
    "\n",
    "    def _one_hidden(self, l):\n",
    "        \"Return one hidden state\"\n",
    "        nh = (self.n_hid) // self.n_dir\n",
    "        return (one_param(self).new_zeros(self.n_dir, self.bs, nh), one_param(self).new_zeros(self.n_dir, self.bs, nh))\n",
    "\n",
    "    def _change_one_hidden(self, l, bs):\n",
    "        if self.bs < bs:\n",
    "            nh = (self.n_hid) // self.n_dir\n",
    "            return tuple(torch.cat([h, h.new_zeros(self.n_dir, bs-self.bs, nh)], dim=1) for h in self.hidden[l])\n",
    "        if self.bs > bs: return (self.hidden[l][0][:,:bs].contiguous(), self.hidden[l][1][:,:bs].contiguous())\n",
    "        return self.hidden[l]\n",
    "\n",
    "    def reset(self):\n",
    "        \"Reset the hidden states\"\n",
    "        [r.reset() for r in self.rnns if hasattr(r, 'reset')]\n",
    "        self.hidden = [self._one_hidden(l) for l in range(self.n_layers)]"
   ]
  },
  {
   "cell_type": "code",
   "execution_count": 57,
   "metadata": {},
   "outputs": [],
   "source": [
    "layers = [512 * 3] + [512] + [9]\n",
    "\n",
    "class MultiHeadedSequenceClassifier(Module):\n",
    "    \"dim: input sequence feature dim\"\n",
    "    def __init__(self, bptt=72, input_pad_idx=input_pad_idx, n_meta=1, dim=1024):\n",
    "        \n",
    "        store_attr('input_pad_idx')\n",
    "        self.awd_lstm = AWD_LSTM(dim+n_meta, 512, 2, bidir=True)\n",
    "        self.encoder = SentenceEncoder(bptt=bptt, module=self.awd_lstm, pad_idx=input_pad_idx)\n",
    "        \n",
    "        # image level preds\n",
    "        self.seq_head = LinearDecoder(1, 512, bias=True)\n",
    " \n",
    "        # exam level preds\n",
    "        self.exam_head = PoolingLinearClassifier(layers, ps=[0.4, 0.1], bptt=bptt)\n",
    "        \n",
    "    \n",
    "    def forward(self, x):\n",
    "        out, mask = self.encoder(x) \n",
    "       \n",
    "        # img level out\n",
    "        seq_cls_out,_,_ = self.seq_head(out)\n",
    "        seq_cls_out = seq_cls_out.squeeze(-1)\n",
    "              \n",
    "        # exam level out\n",
    "        exam_out,_,_ = self.exam_head((out,mask))\n",
    "\n",
    "        return (seq_cls_out, exam_out)"
   ]
  },
  {
   "cell_type": "code",
   "execution_count": 58,
   "metadata": {
    "execution": {
     "iopub.execute_input": "2020-10-11T05:15:16.063649Z",
     "iopub.status.busy": "2020-10-11T05:15:16.061541Z",
     "iopub.status.idle": "2020-10-11T05:15:16.064593Z",
     "shell.execute_reply": "2020-10-11T05:15:16.065170Z"
    },
    "papermill": {
     "duration": 0.085322,
     "end_time": "2020-10-11T05:15:16.065356",
     "exception": false,
     "start_time": "2020-10-11T05:15:15.980034",
     "status": "completed"
    },
    "tags": []
   },
   "outputs": [],
   "source": [
    "class MultiLoss(Module):\n",
    "    \n",
    "    def __init__(self, targ_pad_idx=666):\n",
    "        store_attr(\"targ_pad_idx\")\n",
    "\n",
    "    def forward(self, inp, yb0, yb1):\n",
    "        exam_target_weights = tensor([0.0736196319, 0.2346625767,  0.0782208589, \n",
    "                                      0.06257668712, 0.1042944785, 0.06257668712,\n",
    "                                      0.1042944785,  0.1877300613, 0.09202453988]).to(yb1.device)\n",
    "        seq_cls_out, exam_out = inp\n",
    "       \n",
    "        # img loss\n",
    "        mask = yb0 != self.targ_pad_idx \n",
    "        \n",
    "        img_loss, qs = 0, 0        \n",
    "        for _m,_y,_p in zip(mask, yb0, seq_cls_out):\n",
    "            qi = _y[_m].mean()\n",
    "            qs += qi*sum(_m)\n",
    "            img_loss += qi*(F.binary_cross_entropy_with_logits(_p[_m], _y[_m], reduction='sum'))\n",
    "        \n",
    "        # exam loss\n",
    "        exam_losses = F.binary_cross_entropy_with_logits(exam_out, yb1,reduction='none')\n",
    "        tot_exam_loss = (exam_losses*(exam_target_weights.unsqueeze(0))).sum()\n",
    "        tot_exam_wgts = len(exam_losses)*(tensor(exam_target_weights).sum())\n",
    "        \n",
    "        return (tot_exam_loss+img_loss)/(qs+tot_exam_wgts)"
   ]
  },
  {
   "cell_type": "markdown",
   "metadata": {
    "papermill": {
     "duration": 0.06882,
     "end_time": "2020-10-11T05:15:17.244609",
     "exception": false,
     "start_time": "2020-10-11T05:15:17.175789",
     "status": "completed"
    },
    "tags": []
   },
   "source": [
    "### Train"
   ]
  },
  {
   "cell_type": "code",
   "execution_count": 62,
   "metadata": {},
   "outputs": [],
   "source": [
    "part = 0"
   ]
  },
  {
   "cell_type": "code",
   "execution_count": 66,
   "metadata": {
    "execution": {
     "iopub.execute_input": "2020-10-11T05:15:17.426109Z",
     "iopub.status.busy": "2020-10-11T05:15:17.415917Z",
     "iopub.status.idle": "2020-10-11T05:15:27.320616Z",
     "shell.execute_reply": "2020-10-11T05:15:27.319925Z"
    },
    "papermill": {
     "duration": 10.007464,
     "end_time": "2020-10-11T05:15:27.320767",
     "exception": false,
     "start_time": "2020-10-11T05:15:17.313303",
     "status": "completed"
    },
    "tags": []
   },
   "outputs": [],
   "source": [
    "data = DataBlock(blocks=(SequenceBlock,SequenceTargetBlock,TargetBlock), \n",
    "                 n_inp=1, splitter=FuncSplitter(lambda o: True if o in valid_pids else False))\n",
    "dls = data.dataloaders(all_pids, bs=64)\n",
    "model = SequentialRNN(MultiHeadedSequenceClassifier(bptt=256, dim=2048))\n",
    "loss_func = MultiLoss()\n",
    "learner = Learner(dls, model, loss_func=loss_func, metrics=[], cbs=[ModelResetter(), \n",
    "                                                                    TerminateOnNaNCallback(),\n",
    "                                                                    SaveModelCallback(fname=f\"effnet_nometa_sequence_model_no{part}\")])\n",
    "# learner.to_fp16();"
   ]
  },
  {
   "cell_type": "code",
   "execution_count": 64,
   "metadata": {},
   "outputs": [
    {
     "data": {
      "text/html": [],
      "text/plain": [
       "<IPython.core.display.HTML object>"
      ]
     },
     "metadata": {},
     "output_type": "display_data"
    },
    {
     "data": {
      "image/png": "[encoded data removed]",
      "text/plain": [
       "<Figure size 432x288 with 1 Axes>"
      ]
     },
     "metadata": {
      "needs_background": "light"
     },
     "output_type": "display_data"
    }
   ],
   "source": [
    "# learner.lr_find();"
   ]
  },
  {
   "cell_type": "code",
   "execution_count": null,
   "metadata": {
    "execution": {
     "iopub.execute_input": "2020-10-11T05:15:52.842784Z",
     "iopub.status.busy": "2020-10-11T05:15:52.841799Z",
     "iopub.status.idle": "2020-10-11T05:24:44.960455Z",
     "shell.execute_reply": "2020-10-11T05:24:44.959303Z"
    },
    "papermill": {
     "duration": 532.207482,
     "end_time": "2020-10-11T05:24:44.960619",
     "exception": false,
     "start_time": "2020-10-11T05:15:52.753137",
     "status": "completed"
    },
    "tags": []
   },
   "outputs": [],
   "source": [
    "learner.fit_flat_cos(40, lr=0.01)"
   ]
  },
  {
   "cell_type": "code",
   "execution_count": null,
   "metadata": {},
   "outputs": [],
   "source": [
    "part = 0 # top 3 train embeddings"
   ]
  },
  {
   "cell_type": "code",
   "execution_count": null,
   "metadata": {},
   "outputs": [],
   "source": [
    "learner.save(f\"effnet_nometa_sequence_model_no{part}\", with_opt=False)"
   ]
  },
  {
   "cell_type": "markdown",
   "metadata": {},
   "source": [
    "### Get Preds"
   ]
  },
  {
   "cell_type": "code",
   "execution_count": null,
   "metadata": {},
   "outputs": [],
   "source": [
    "part = 0"
   ]
  },
  {
   "cell_type": "code",
   "execution_count": 192,
   "metadata": {},
   "outputs": [],
   "source": [
    "learner.load(f\"effnet_nometa_sequence_model_no{part}\");"
   ]
  },
  {
   "cell_type": "code",
   "execution_count": 193,
   "metadata": {},
   "outputs": [],
   "source": [
    "learner.model.eval().to(device);"
   ]
  },
  {
   "cell_type": "code",
   "execution_count": 194,
   "metadata": {},
   "outputs": [
    {
     "data": {
      "text/plain": [
       "1456"
      ]
     },
     "execution_count": 194,
     "metadata": {},
     "output_type": "execute_result"
    }
   ],
   "source": [
    "len(all_pids)"
   ]
  },
  {
   "cell_type": "code",
   "execution_count": 195,
   "metadata": {},
   "outputs": [],
   "source": [
    "test_dl = learner.dls.test_dl(all_pids)"
   ]
  },
  {
   "cell_type": "code",
   "execution_count": 196,
   "metadata": {},
   "outputs": [
    {
     "data": {
      "text/html": [
       "\n",
       "    <div>\n",
       "        <style>\n",
       "            /* Turns off some styling */\n",
       "            progress {\n",
       "                /* gets rid of default border in Firefox and Opera. */\n",
       "                border: none;\n",
       "                /* Needs to be in here for Safari polyfill so background images work as expected. */\n",
       "                background-size: auto;\n",
       "            }\n",
       "            .progress-bar-interrupted, .progress-bar-interrupted::-webkit-progress-bar {\n",
       "                background: #F44336;\n",
       "            }\n",
       "        </style>\n",
       "      <progress value='1456' class='' max='1456' style='width:300px; height:20px; vertical-align: middle;'></progress>\n",
       "      100.00% [1456/1456 00:51<00:00]\n",
       "    </div>\n",
       "    "
      ],
      "text/plain": [
       "<IPython.core.display.HTML object>"
      ]
     },
     "metadata": {},
     "output_type": "display_data"
    }
   ],
   "source": [
    "seq_img_preds = []\n",
    "seq_exam_preds = []\n",
    "with torch.no_grad():\n",
    "    for xb in progress_bar(test_dl.dataset):\n",
    "        img_pred, exam_pred = to_detach(learner.model(xb[0][None,...].cuda()))\n",
    "        seq_img_preds.append(img_pred)\n",
    "        seq_exam_preds.append(exam_pred)"
   ]
  },
  {
   "cell_type": "code",
   "execution_count": 197,
   "metadata": {},
   "outputs": [
    {
     "data": {
      "text/plain": [
       "Path('/../rsna_data/cnn_embs/full_512_FOLD3')"
      ]
     },
     "execution_count": 197,
     "metadata": {},
     "output_type": "execute_result"
    }
   ],
   "source": [
    "folddir"
   ]
  },
  {
   "cell_type": "code",
   "execution_count": 198,
   "metadata": {},
   "outputs": [],
   "source": [
    "torch.save(seq_img_preds, folddir/'seq_img_preds.pth')\n",
    "torch.save(seq_exam_preds, folddir/'seq_exam_preds.pth')\n",
    "torch.save(all_pids, folddir/'pids.pth')"
   ]
  },
  {
   "cell_type": "code",
   "execution_count": null,
   "metadata": {},
   "outputs": [],
   "source": []
  },
  {
   "cell_type": "code",
   "execution_count": null,
   "metadata": {},
   "outputs": [],
   "source": []
  },
  {
   "cell_type": "code",
   "execution_count": null,
   "metadata": {},
   "outputs": [],
   "source": []
  },
  {
   "cell_type": "code",
   "execution_count": null,
   "metadata": {},
   "outputs": [],
   "source": []
  },
  {
   "cell_type": "code",
   "execution_count": null,
   "metadata": {},
   "outputs": [],
   "source": []
  },
  {
   "cell_type": "code",
   "execution_count": null,
   "metadata": {},
   "outputs": [],
   "source": []
  },
  {
   "cell_type": "code",
   "execution_count": null,
   "metadata": {},
   "outputs": [],
   "source": []
  },
  {
   "cell_type": "code",
   "execution_count": null,
   "metadata": {
    "papermill": {
     "duration": 0.077751,
     "end_time": "2020-10-11T05:24:45.672722",
     "exception": false,
     "start_time": "2020-10-11T05:24:45.594971",
     "status": "completed"
    },
    "tags": []
   },
   "outputs": [],
   "source": []
  }
 ],
 "metadata": {
  "kernelspec": {
   "display_name": "Python 3",
   "language": "python",
   "name": "python3"
  },
  "language_info": {
   "codemirror_mode": {
    "name": "ipython",
    "version": 3
   },
   "file_extension": ".py",
   "mimetype": "text/x-python",
   "name": "python",
   "nbconvert_exporter": "python",
   "pygments_lexer": "ipython3",
   "version": "3.7.6"
  },
  "papermill": {
   "duration": 1146.351524,
   "end_time": "2020-10-11T05:24:47.674073",
   "environment_variables": {},
   "exception": null,
   "input_path": "__notebook__.ipynb",
   "output_path": "__notebook__.ipynb",
   "parameters": {},
   "start_time": "2020-10-11T05:05:41.322549",
   "version": "2.1.0"
  }
 },
 "nbformat": 4,
 "nbformat_minor": 4
}
