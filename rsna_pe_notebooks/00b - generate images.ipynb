{
 "cells": [
  {
   "cell_type": "markdown",
   "metadata": {},
   "source": [
    "### Creating Image Datasets\n",
    "\n",
    "- Single Slice RGB with Windowing\n",
    "- Multi Slice RGB with Windowing (Adjacent Slices - s-1, s, s+1)"
   ]
  },
  {
   "cell_type": "code",
   "execution_count": 1,
   "metadata": {
    "_cell_guid": "79c7e3d0-c299-4dcb-8224-4455121ee9b0",
    "_uuid": "d629ff2d2480ee46fbb7e2d37f6b5fab8052498a"
   },
   "outputs": [],
   "source": [
    "from fastai.vision.all import *\n",
    "from fastai.medical.imaging import *"
   ]
  },
  {
   "cell_type": "code",
   "execution_count": 2,
   "metadata": {},
   "outputs": [],
   "source": [
    "pd.options.display.max_columns = 100"
   ]
  },
  {
   "cell_type": "code",
   "execution_count": 3,
   "metadata": {},
   "outputs": [],
   "source": [
    "datapath = Path(\"/../rsna_data/\")"
   ]
  },
  {
   "cell_type": "code",
   "execution_count": 4,
   "metadata": {},
   "outputs": [],
   "source": [
    "create_samples = False\n",
    "if create_samples:\n",
    "    sample_studies = np.random.choice((datapath/'train').ls(), 100, replace=False)\n",
    "    sample_studies = np.random.permutation(sample_studies)\n",
    "    valid_pids = [o.stem for o in sample_studies[:20]]\n",
    "    train_pids = [o.stem for o in sample_studies[20:]]\n",
    "    sample_pids_dir = (datapath/'sample_pids')\n",
    "    if not sample_pids_dir.exists(): sample_pids_dir.mkdir()\n",
    "    pd.to_pickle(valid_pids, sample_pids_dir/'valid_pids.pkl')\n",
    "    pd.to_pickle(train_pids, sample_pids_dir/'train_pids.pkl')\n",
    "    assert set(train_pids).intersection(set(valid_pids)) == set()"
   ]
  },
  {
   "cell_type": "code",
   "execution_count": 5,
   "metadata": {},
   "outputs": [],
   "source": [
    "train_df = pd.read_csv(datapath/'train.csv')"
   ]
  },
  {
   "cell_type": "code",
   "execution_count": 10,
   "metadata": {},
   "outputs": [],
   "source": [
    "do_sample=False\n",
    "if do_sample:\n",
    "    sample_pids_dir = (datapath/'sample_pids')\n",
    "    valid_pids = pd.read_pickle(sample_pids_dir/'valid_pids.pkl')\n",
    "    train_pids = pd.read_pickle(sample_pids_dir/'train_pids.pkl')\n",
    "\n",
    "    trn_df = train_df[train_df['StudyInstanceUID'].isin(train_pids)]\n",
    "    val_df = train_df[train_df['StudyInstanceUID'].isin(valid_pids)]\n",
    "\n",
    "    trn_df['pe_present_on_image'].mean(), val_df['pe_present_on_image'].mean()"
   ]
  },
  {
   "cell_type": "markdown",
   "metadata": {},
   "source": [
    "### Save image and metadata (RGB windows: lung, PE, mediastinal)"
   ]
  },
  {
   "cell_type": "code",
   "execution_count": 11,
   "metadata": {},
   "outputs": [],
   "source": [
    "# RGB windows\n",
    "lung_window = (1500, -600)\n",
    "pe_window = (700, 100)\n",
    "mediastinal_window = (400, 40)\n",
    "windows = (lung_window, pe_window, mediastinal_window)"
   ]
  },
  {
   "cell_type": "code",
   "execution_count": 12,
   "metadata": {},
   "outputs": [],
   "source": [
    "def read_dcm_img(dcm, windows=windows):\n",
    "    \"Read single slice in RGB\"\n",
    "    return torch.stack([dcm.windowed(*w) for w in windows])"
   ]
  },
  {
   "cell_type": "code",
   "execution_count": 13,
   "metadata": {},
   "outputs": [],
   "source": [
    "def save_img(t:Tensor, fn):\n",
    "    \"Save single slice in RGB\"\n",
    "    t = (t*255).byte()\n",
    "    im = Image.fromarray(t.permute(1,2,0).numpy(), mode=['RGB','CMYK'][t.shape[0]==4])\n",
    "    im.save(fn, quality=90)"
   ]
  },
  {
   "cell_type": "code",
   "execution_count": 16,
   "metadata": {},
   "outputs": [],
   "source": [
    "if do_sample:\n",
    "    sample_pids_dir = (datapath/'sample_pids')\n",
    "    valid_pids = pd.read_pickle(sample_pids_dir/'valid_pids.pkl')\n",
    "    train_pids = pd.read_pickle(sample_pids_dir/'train_pids.pkl')\n",
    "\n",
    "    len(train_pids+valid_pids)"
   ]
  },
  {
   "cell_type": "code",
   "execution_count": 17,
   "metadata": {},
   "outputs": [],
   "source": [
    "save_dir = datapath/'full_raw_512'\n",
    "if not save_dir.exists(): save_dir.mkdir()\n",
    "metadata_dir = datapath/'metadata'\n",
    "if not metadata_dir.exists(): metadata_dir.mkdir()"
   ]
  },
  {
   "cell_type": "code",
   "execution_count": 18,
   "metadata": {},
   "outputs": [],
   "source": [
    "def save_imgs_and_metadata(study_dirname, size=None, save_metadf=False):\n",
    "    try:\n",
    "        # get metadata\n",
    "        dcmfiles = get_dicom_files(study_dirname)\n",
    "        dcm_metadf = (pd.DataFrame.from_dicoms(dcmfiles, window=pe_window)\n",
    "                                  .sort_values(['ImagePositionPatient2'])\n",
    "                                  .reset_index(drop=True))\n",
    "        study_fnames = dcm_metadf['fname'].values\n",
    "        \n",
    "        # get ordered imgs\n",
    "        dcm_ds = [Path(o).dcmread() for o in study_fnames]\n",
    "        imgs = torch.stack([read_dcm_img(o) for o in dcm_ds])\n",
    "        \n",
    "        # resize\n",
    "        if size:\n",
    "            imgs = F.interpolate(imgs, size=size, mode='bilinear', align_corners=False)\n",
    "\n",
    "        # save cropped imgs in order\n",
    "        outdir = save_dir/study_dirname.name\n",
    "        if not outdir.exists(): outdir.mkdir()\n",
    "        for i, (fn, t) in enumerate(zip(study_fnames, imgs)):\n",
    "            save_img(t, outdir/f\"{i}_{Path(fn).stem}.jpg\")\n",
    "\n",
    "        # save metadata\n",
    "        if save_metadf:\n",
    "            dcm_metadf.to_csv(metadata_dir/f\"{study_dirname.name}.csv\", index=False)\n",
    "        \n",
    "    except Exception as e:\n",
    "        # install GDCM offline in inference kernel\n",
    "        if \"GDCM\" in str(e): print(f\"Possible GDCM issue skipping: {study_dirname}\")\n",
    "        else: raise e"
   ]
  },
  {
   "cell_type": "code",
   "execution_count": 22,
   "metadata": {},
   "outputs": [],
   "source": [
    "if do_sample:\n",
    "    study_dirnames = [datapath/'train'/o for o in train_pids+valid_pids]\n",
    "else:\n",
    "    study_dirnames = [datapath/'train'/o for o in train_df['StudyInstanceUID'].unique()]"
   ]
  },
  {
   "cell_type": "code",
   "execution_count": 23,
   "metadata": {},
   "outputs": [
    {
     "data": {
      "text/plain": [
       "7279"
      ]
     },
     "execution_count": 23,
     "metadata": {},
     "output_type": "execute_result"
    }
   ],
   "source": [
    "len(study_dirnames)"
   ]
  },
  {
   "cell_type": "code",
   "execution_count": 24,
   "metadata": {},
   "outputs": [
    {
     "data": {
      "text/html": [],
      "text/plain": [
       "<IPython.core.display.HTML object>"
      ]
     },
     "metadata": {},
     "output_type": "display_data"
    }
   ],
   "source": [
    "save_imgs_and_metadata(study_dirnames[0], size=None, save_metadf=True)"
   ]
  },
  {
   "cell_type": "code",
   "execution_count": 25,
   "metadata": {},
   "outputs": [
    {
     "data": {
      "text/plain": [
       "(512, 512)"
      ]
     },
     "execution_count": 25,
     "metadata": {},
     "output_type": "execute_result"
    }
   ],
   "source": [
    "PILImage.create((save_dir/study_dirnames[0].name).ls()[0]).shape"
   ]
  },
  {
   "cell_type": "code",
   "execution_count": null,
   "metadata": {},
   "outputs": [],
   "source": [
    "for study_dirname in progress_bar(study_dirnames):\n",
    "    save_imgs_and_metadata(study_dirname, size=None, save_metadf=False)"
   ]
  },
  {
   "cell_type": "markdown",
   "metadata": {},
   "source": [
    "### Save Metadata"
   ]
  },
  {
   "cell_type": "code",
   "execution_count": 28,
   "metadata": {},
   "outputs": [],
   "source": [
    "def save_metadata(study_dirname):\n",
    "    try:\n",
    "        # get metadata\n",
    "        dcmfiles = get_dicom_files(study_dirname)\n",
    "        dcm_metadf = (pd.DataFrame.from_dicoms(dcmfiles, window=pe_window)\n",
    "                                  .sort_values(['ImagePositionPatient2'])\n",
    "                                  .reset_index(drop=True))\n",
    "#         study_fnames = dcm_metadf['fname'].values\n",
    "        \n",
    "#         # get ordered imgs\n",
    "#         dcm_ds = [Path(o).dcmread() for o in study_fnames]\n",
    "#         imgs = torch.stack([read_dcm_img(o) for o in dcm_ds])\n",
    "        \n",
    "#         # resize\n",
    "#         if size:\n",
    "#             imgs = F.interpolate(imgs, size=size, mode='bilinear', align_corners=False)\n",
    "\n",
    "#         # save cropped imgs in order\n",
    "#         outdir = save_dir/study_dirname.name\n",
    "#         if not outdir.exists(): outdir.mkdir()\n",
    "#         for i, (fn, t) in enumerate(zip(study_fnames, imgs)):\n",
    "#             save_img(t, outdir/f\"{i}_{Path(fn).stem}.jpg\")\n",
    "\n",
    "\n",
    "        dcm_metadf.to_csv(metadata_dir/f\"{study_dirname.name}.csv\", index=False)\n",
    "        \n",
    "    except Exception as e:\n",
    "        # install GDCM offline in inference kernel\n",
    "        if \"GDCM\" in str(e): print(f\"Possible GDCM issue skipping: {study_dirname}\")\n",
    "        else: raise e"
   ]
  },
  {
   "cell_type": "code",
   "execution_count": null,
   "metadata": {},
   "outputs": [],
   "source": [
    "for study_dirname in progress_bar(study_dirnames):\n",
    "    save_metadata(study_dirname)"
   ]
  },
  {
   "cell_type": "markdown",
   "metadata": {},
   "source": [
    "### Multi Slice RGB "
   ]
  },
  {
   "cell_type": "code",
   "execution_count": 23,
   "metadata": {},
   "outputs": [],
   "source": [
    "dcms = pdcms[100:103]\n",
    "\n",
    "def read_dcm_imgs(dcms, windows=windows, nchan=3, nslices=3):\n",
    "    \"Read multi slice in RGB and stack\"\n",
    "    assert len(windows) == nchan\n",
    "    t = torch.stack([dcm.windowed(*w) for dcm in dcms for w in windows])\n",
    "    if t.size(0) != nslices*nchan:\n",
    "        diff = int((nslices*nchan - t.size(0))/nchan)\n",
    "        t = torch.cat([t[:nchan] for i in range(diff)] + [t])\n",
    "    assert t.size(0) == nslices*nchan\n",
    "    return t"
   ]
  },
  {
   "cell_type": "code",
   "execution_count": null,
   "metadata": {},
   "outputs": [],
   "source": []
  },
  {
   "cell_type": "code",
   "execution_count": null,
   "metadata": {},
   "outputs": [],
   "source": []
  },
  {
   "cell_type": "code",
   "execution_count": null,
   "metadata": {},
   "outputs": [],
   "source": []
  }
 ],
 "metadata": {
  "kernelspec": {
   "display_name": "Python 3",
   "language": "python",
   "name": "python3"
  },
  "language_info": {
   "codemirror_mode": {
    "name": "ipython",
    "version": 3
   },
   "file_extension": ".py",
   "mimetype": "text/x-python",
   "name": "python",
   "nbconvert_exporter": "python",
   "pygments_lexer": "ipython3",
   "version": "3.7.1"
  }
 },
 "nbformat": 4,
 "nbformat_minor": 4
}
